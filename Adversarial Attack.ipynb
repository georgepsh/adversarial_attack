{
 "cells": [
  {
   "cell_type": "code",
   "execution_count": 352,
   "metadata": {},
   "outputs": [],
   "source": [
    "from torchvision import datasets, transforms\n",
    "import torch\n",
    "import torch.optim as optim\n",
    "from torch import nn\n",
    "import torch.nn.functional as F\n",
    "import pandas as pd\n",
    "import numpy as np\n",
    "from torch.utils.data import DataLoader, TensorDataset\n",
    "import matplotlib.pyplot as plt\n",
    "import random"
   ]
  },
  {
   "cell_type": "markdown",
   "metadata": {},
   "source": [
    "### Read MNIST"
   ]
  },
  {
   "cell_type": "code",
   "execution_count": 312,
   "metadata": {},
   "outputs": [],
   "source": [
    "train_dataset = datasets.MNIST('../data', train=True, download=True, transform=transforms.Compose([\n",
    "            transforms.ToTensor(),\n",
    "            ]))\n",
    "test_dataset = datasets.MNIST('../data', train=False, download=True, transform=transforms.Compose([\n",
    "            transforms.ToTensor(),\n",
    "            ]))"
   ]
  },
  {
   "cell_type": "markdown",
   "metadata": {},
   "source": [
    "### Model"
   ]
  },
  {
   "cell_type": "code",
   "execution_count": 313,
   "metadata": {},
   "outputs": [],
   "source": [
    "class Model(nn.Module):\n",
    "    def __init__(self, feature_dim=784, hidden1_dim=128, hidden2_dim=128, output_dim=10):\n",
    "        super(Model, self).__init__()\n",
    "        self.feature_dim = feature_dim\n",
    "        self.fc1 = nn.Linear(feature_dim, hidden1_dim)\n",
    "        self.fc2 = nn.Linear(hidden1_dim, hidden2_dim)\n",
    "        self.fc3 = nn.Linear(hidden2_dim, output_dim)\n",
    "    \n",
    "    def forward(self, x):\n",
    "        x = x.view(-1, self.feature_dim)\n",
    "        x = F.relu(self.fc1(x))\n",
    "        x = F.relu(self.fc2(x))\n",
    "        x = self.fc3(x)\n",
    "        return x"
   ]
  },
  {
   "cell_type": "code",
   "execution_count": 314,
   "metadata": {},
   "outputs": [],
   "source": [
    "model = Model()"
   ]
  },
  {
   "cell_type": "markdown",
   "metadata": {},
   "source": [
    "### Training loop"
   ]
  },
  {
   "cell_type": "code",
   "execution_count": 317,
   "metadata": {},
   "outputs": [],
   "source": [
    "def train(model, dataset, epochs=100):\n",
    "    losses = []\n",
    "    optimizer = optim.Adam(model.parameters(), lr=1e-4)\n",
    "    dataloader = DataLoader(dataset, batch_size=64, shuffle=True)\n",
    "    loss = nn.CrossEntropyLoss()\n",
    "    for _ in range(epochs):\n",
    "        for idx, (inputs, targets) in enumerate(dataloader):\n",
    "            predictions = model(inputs)\n",
    "            L = loss(predictions, targets)\n",
    "            losses.append(L)\n",
    "            optimizer.zero_grad()\n",
    "            L.backward()\n",
    "            optimizer.step()\n",
    "        print('Epoch', str(_)+':', 'loss:', L.item())\n",
    "    return L"
   ]
  },
  {
   "cell_type": "code",
   "execution_count": 318,
   "metadata": {
    "scrolled": true
   },
   "outputs": [
    {
     "name": "stdout",
     "output_type": "stream",
     "text": [
      "Epoch 0: loss: 0.15730540454387665\n",
      "Epoch 1: loss: 0.10281114280223846\n",
      "Epoch 2: loss: 0.24305333197116852\n",
      "Epoch 3: loss: 0.24171625077724457\n",
      "Epoch 4: loss: 0.11638514697551727\n",
      "Epoch 5: loss: 0.025170406326651573\n",
      "Epoch 6: loss: 0.1361529678106308\n",
      "Epoch 7: loss: 0.14385291934013367\n",
      "Epoch 8: loss: 0.3532721698284149\n",
      "Epoch 9: loss: 0.16745327413082123\n",
      "Epoch 10: loss: 0.039212167263031006\n",
      "Epoch 11: loss: 0.008246148936450481\n",
      "Epoch 12: loss: 0.0482584685087204\n",
      "Epoch 13: loss: 0.023358361795544624\n",
      "Epoch 14: loss: 0.08123832941055298\n",
      "Epoch 15: loss: 0.016502724960446358\n",
      "Epoch 16: loss: 0.03337829187512398\n",
      "Epoch 17: loss: 0.06547430157661438\n",
      "Epoch 18: loss: 0.07699750363826752\n",
      "Epoch 19: loss: 0.02370930276811123\n",
      "Epoch 20: loss: 0.02289646863937378\n",
      "Epoch 21: loss: 0.008833952248096466\n",
      "Epoch 22: loss: 0.00245304754935205\n",
      "Epoch 23: loss: 0.13975133001804352\n",
      "Epoch 24: loss: 0.019026288762688637\n",
      "Epoch 25: loss: 0.028896763920783997\n",
      "Epoch 26: loss: 0.007468723226338625\n",
      "Epoch 27: loss: 0.16399416327476501\n",
      "Epoch 28: loss: 0.033731404691934586\n",
      "Epoch 29: loss: 0.004651524126529694\n",
      "Epoch 30: loss: 0.015185404568910599\n",
      "Epoch 31: loss: 0.035297147929668427\n",
      "Epoch 32: loss: 0.0707077905535698\n",
      "Epoch 33: loss: 0.01029159128665924\n",
      "Epoch 34: loss: 0.05328396335244179\n",
      "Epoch 35: loss: 0.014824979938566685\n",
      "Epoch 36: loss: 0.031108945608139038\n",
      "Epoch 37: loss: 0.010328157804906368\n",
      "Epoch 38: loss: 0.01039972249418497\n",
      "Epoch 39: loss: 0.008907961659133434\n",
      "Epoch 40: loss: 0.004099576268345118\n",
      "Epoch 41: loss: 0.004422665573656559\n",
      "Epoch 42: loss: 0.009904124774038792\n",
      "Epoch 43: loss: 0.00803348794579506\n",
      "Epoch 44: loss: 0.011483650654554367\n",
      "Epoch 45: loss: 0.0016833454137668014\n",
      "Epoch 46: loss: 0.004005190916359425\n",
      "Epoch 47: loss: 0.0054046474397182465\n",
      "Epoch 48: loss: 0.008493547327816486\n",
      "Epoch 49: loss: 0.008227844722568989\n"
     ]
    }
   ],
   "source": [
    "losses = train(model, train_dataset, epochs=50)"
   ]
  },
  {
   "cell_type": "markdown",
   "metadata": {},
   "source": [
    "### Accuracy check on test samples"
   ]
  },
  {
   "cell_type": "code",
   "execution_count": 319,
   "metadata": {},
   "outputs": [],
   "source": [
    "def measure_accuracy(model, dataset):\n",
    "    dataloader = DataLoader(dataset, batch_size=1, shuffle=False)\n",
    "    correct = 0\n",
    "    count = 0\n",
    "    for data in dataloader:\n",
    "        inputs, targets = data\n",
    "        count += len(inputs)\n",
    "        with torch.no_grad():\n",
    "            prediction = model(inputs).max(dim=1)[1]\n",
    "        correct += torch.sum(prediction == targets).item()\n",
    "    return correct / count"
   ]
  },
  {
   "cell_type": "code",
   "execution_count": 361,
   "metadata": {},
   "outputs": [
    {
     "name": "stdout",
     "output_type": "stream",
     "text": [
      "model accuracy: 0.9747\n"
     ]
    }
   ],
   "source": [
    "print('model accuracy:', measure_accuracy(model, test_dataset))"
   ]
  },
  {
   "cell_type": "markdown",
   "metadata": {},
   "source": [
    "### Fast gradient sign method"
   ]
  },
  {
   "cell_type": "code",
   "execution_count": 362,
   "metadata": {},
   "outputs": [],
   "source": [
    "def attack(sample, grad, eps):\n",
    "    spoiled_sample = sample + eps * grad.sign()\n",
    "    return torch.clamp(spoiled_sample, 0, 1)\n",
    "\n",
    "def test_attack(model, dataset, eps, epochs=50):\n",
    "    loss = nn.CrossEntropyLoss()\n",
    "    dataloader = DataLoader(dataset, batch_size=1, shuffle=False)\n",
    "    count = 0\n",
    "    correct = 0\n",
    "    examples = []\n",
    "    for data, target in dataloader:\n",
    "        count += 1\n",
    "        data.requires_grad = True\n",
    "        true_prediction = model(data)\n",
    "        \n",
    "        if true_prediction.max(dim=1, keepdims=True)[1].item() != target.item():\n",
    "            continue\n",
    "            \n",
    "        L = loss(true_prediction, target)\n",
    "        model.zero_grad()\n",
    "        L.backward()\n",
    "        spoiled_data = attack(data, data.grad.data, eps)\n",
    "        fake_prediction = model(spoiled_data).max(dim=1, keepdims=True)[1]\n",
    "        if fake_prediction == target:\n",
    "            correct += 1\n",
    "        else:\n",
    "            examples.append(spoiled_data)\n",
    "    return torch.cat(examples), correct / count"
   ]
  },
  {
   "cell_type": "code",
   "execution_count": 363,
   "metadata": {},
   "outputs": [
    {
     "name": "stdout",
     "output_type": "stream",
     "text": [
      "eps: 0.01, accuracy: 0.9219\n",
      "eps: 0.02, accuracy: 0.7604\n",
      "eps: 0.03, accuracy: 0.5118\n",
      "eps: 0.04, accuracy: 0.3307\n",
      "eps: 0.05, accuracy: 0.2324\n",
      "eps: 0.1, accuracy: 0.0477\n",
      "eps: 0.15, accuracy: 0.0091\n",
      "eps: 0.2, accuracy: 0.0026\n"
     ]
    }
   ],
   "source": [
    "eps = [0.01, 0.02, 0.03, 0.04, 0.05, 0.1, 0.15, 0.2]\n",
    "for e in eps:\n",
    "    print('eps:', str(e)+',', 'accuracy:', test_attack(model, test_dataset, e)[1])"
   ]
  },
  {
   "cell_type": "code",
   "execution_count": 368,
   "metadata": {},
   "outputs": [],
   "source": [
    "examples = test_attack(model, test_dataset, 0.03)[0]"
   ]
  },
  {
   "cell_type": "code",
   "execution_count": 369,
   "metadata": {},
   "outputs": [
    {
     "data": {
      "image/png": "[encoded data removed]",
      "text/plain": [
       "<Figure size 432x288 with 1 Axes>"
      ]
     },
     "metadata": {
      "needs_background": "light"
     },
     "output_type": "display_data"
    },
    {
     "data": {
      "image/png": "[encoded data removed]",
      "text/plain": [
       "<Figure size 432x288 with 1 Axes>"
      ]
     },
     "metadata": {
      "needs_background": "light"
     },
     "output_type": "display_data"
    },
    {
     "data": {
      "image/png": "[encoded data removed]",
      "text/plain": [
       "<Figure size 432x288 with 1 Axes>"
      ]
     },
     "metadata": {
      "needs_background": "light"
     },
     "output_type": "display_data"
    },
    {
     "data": {
      "image/png": "[encoded data removed]",
      "text/plain": [
       "<Figure size 432x288 with 1 Axes>"
      ]
     },
     "metadata": {
      "needs_background": "light"
     },
     "output_type": "display_data"
    },
    {
     "data": {
      "image/png": "[encoded data removed]",
      "text/plain": [
       "<Figure size 432x288 with 1 Axes>"
      ]
     },
     "metadata": {
      "needs_background": "light"
     },
     "output_type": "display_data"
    }
   ],
   "source": [
    "rand_examples = np.random.randint(low=0, high=len(examples)-1, size=(5, ))\n",
    "for i in rand_examples:\n",
    "    prediction = model(examples[i]).max(dim=1)[1].item()\n",
    "    plt.imshow(examples[i].detach().numpy()[0], cmap='gray')\n",
    "    plt.title(f'model prediction: {prediction}')\n",
    "    plt.show()"
   ]
  },
  {
   "cell_type": "code",
   "execution_count": null,
   "metadata": {},
   "outputs": [],
   "source": []
  }
 ],
 "metadata": {
  "kernelspec": {
   "display_name": "Python 3",
   "language": "python",
   "name": "python3"
  },
  "language_info": {
   "codemirror_mode": {
    "name": "ipython",
    "version": 3
   },
   "file_extension": ".py",
   "mimetype": "text/x-python",
   "name": "python",
   "nbconvert_exporter": "python",
   "pygments_lexer": "ipython3",
   "version": "3.7.5"
  }
 },
 "nbformat": 4,
 "nbformat_minor": 4
}
